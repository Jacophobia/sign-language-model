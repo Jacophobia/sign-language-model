{
 "cells": [
  {
   "cell_type": "code",
   "execution_count": 25,
   "metadata": {
    "collapsed": true
   },
   "outputs": [],
   "source": [
    "import tensorflow as tf\n",
    "import numpy as np\n",
    "import matplotlib.pyplot as plt\n",
    "import pandas as pd\n",
    "\n",
    "\n",
    "import pickle"
   ]
  },
  {
   "cell_type": "code",
   "execution_count": 26,
   "outputs": [
    {
     "data": {
      "text/plain": "         x1        y1            z1        x2        y2        z2        x3  \\\n0  0.284234  0.599662  1.510391e-09  0.352661  0.574240 -0.018644  0.401655   \n1  0.285704  0.594281 -4.252064e-09  0.351391  0.575788 -0.023778  0.397199   \n2  0.282022  0.592181 -4.262098e-09  0.348222  0.574958 -0.024807  0.395815   \n3  0.279870  0.594496 -3.989998e-09  0.345210  0.575632 -0.021771  0.391491   \n4  0.275030  0.592625 -4.403823e-09  0.340713  0.573089 -0.021498  0.387466   \n\n         y3        z3        x4  ...       x19       y19       z19       x20  \\\n0  0.505305 -0.031250  0.417682  ...  0.264750  0.411588 -0.051163  0.270928   \n1  0.503982 -0.038397  0.411797  ...  0.260840  0.409029 -0.054180  0.269301   \n2  0.503679 -0.039821  0.411231  ...  0.257454  0.408016 -0.052401  0.265423   \n3  0.502638 -0.035953  0.406466  ...  0.254278  0.407087 -0.054067  0.262207   \n4  0.500672 -0.035819  0.402215  ...  0.248197  0.406337 -0.052727  0.256451   \n\n        y20       z20       x21       y21       z21  symbol  \n0  0.466022 -0.052875  0.276105  0.505524 -0.052011       0  \n1  0.466309 -0.058145  0.274917  0.504831 -0.057939       0  \n2  0.464812 -0.056430  0.270709  0.503389 -0.056365       0  \n3  0.463662 -0.057304  0.266132  0.502502 -0.056816       0  \n4  0.461449 -0.056080  0.261073  0.500557 -0.055821       0  \n\n[5 rows x 64 columns]",
      "text/html": "<div>\n<style scoped>\n    .dataframe tbody tr th:only-of-type {\n        vertical-align: middle;\n    }\n\n    .dataframe tbody tr th {\n        vertical-align: top;\n    }\n\n    .dataframe thead th {\n        text-align: right;\n    }\n</style>\n<table border=\"1\" class=\"dataframe\">\n  <thead>\n    <tr style=\"text-align: right;\">\n      <th></th>\n      <th>x1</th>\n      <th>y1</th>\n      <th>z1</th>\n      <th>x2</th>\n      <th>y2</th>\n      <th>z2</th>\n      <th>x3</th>\n      <th>y3</th>\n      <th>z3</th>\n      <th>x4</th>\n      <th>...</th>\n      <th>x19</th>\n      <th>y19</th>\n      <th>z19</th>\n      <th>x20</th>\n      <th>y20</th>\n      <th>z20</th>\n      <th>x21</th>\n      <th>y21</th>\n      <th>z21</th>\n      <th>symbol</th>\n    </tr>\n  </thead>\n  <tbody>\n    <tr>\n      <th>0</th>\n      <td>0.284234</td>\n      <td>0.599662</td>\n      <td>1.510391e-09</td>\n      <td>0.352661</td>\n      <td>0.574240</td>\n      <td>-0.018644</td>\n      <td>0.401655</td>\n      <td>0.505305</td>\n      <td>-0.031250</td>\n      <td>0.417682</td>\n      <td>...</td>\n      <td>0.264750</td>\n      <td>0.411588</td>\n      <td>-0.051163</td>\n      <td>0.270928</td>\n      <td>0.466022</td>\n      <td>-0.052875</td>\n      <td>0.276105</td>\n      <td>0.505524</td>\n      <td>-0.052011</td>\n      <td>0</td>\n    </tr>\n    <tr>\n      <th>1</th>\n      <td>0.285704</td>\n      <td>0.594281</td>\n      <td>-4.252064e-09</td>\n      <td>0.351391</td>\n      <td>0.575788</td>\n      <td>-0.023778</td>\n      <td>0.397199</td>\n      <td>0.503982</td>\n      <td>-0.038397</td>\n      <td>0.411797</td>\n      <td>...</td>\n      <td>0.260840</td>\n      <td>0.409029</td>\n      <td>-0.054180</td>\n      <td>0.269301</td>\n      <td>0.466309</td>\n      <td>-0.058145</td>\n      <td>0.274917</td>\n      <td>0.504831</td>\n      <td>-0.057939</td>\n      <td>0</td>\n    </tr>\n    <tr>\n      <th>2</th>\n      <td>0.282022</td>\n      <td>0.592181</td>\n      <td>-4.262098e-09</td>\n      <td>0.348222</td>\n      <td>0.574958</td>\n      <td>-0.024807</td>\n      <td>0.395815</td>\n      <td>0.503679</td>\n      <td>-0.039821</td>\n      <td>0.411231</td>\n      <td>...</td>\n      <td>0.257454</td>\n      <td>0.408016</td>\n      <td>-0.052401</td>\n      <td>0.265423</td>\n      <td>0.464812</td>\n      <td>-0.056430</td>\n      <td>0.270709</td>\n      <td>0.503389</td>\n      <td>-0.056365</td>\n      <td>0</td>\n    </tr>\n    <tr>\n      <th>3</th>\n      <td>0.279870</td>\n      <td>0.594496</td>\n      <td>-3.989998e-09</td>\n      <td>0.345210</td>\n      <td>0.575632</td>\n      <td>-0.021771</td>\n      <td>0.391491</td>\n      <td>0.502638</td>\n      <td>-0.035953</td>\n      <td>0.406466</td>\n      <td>...</td>\n      <td>0.254278</td>\n      <td>0.407087</td>\n      <td>-0.054067</td>\n      <td>0.262207</td>\n      <td>0.463662</td>\n      <td>-0.057304</td>\n      <td>0.266132</td>\n      <td>0.502502</td>\n      <td>-0.056816</td>\n      <td>0</td>\n    </tr>\n    <tr>\n      <th>4</th>\n      <td>0.275030</td>\n      <td>0.592625</td>\n      <td>-4.403823e-09</td>\n      <td>0.340713</td>\n      <td>0.573089</td>\n      <td>-0.021498</td>\n      <td>0.387466</td>\n      <td>0.500672</td>\n      <td>-0.035819</td>\n      <td>0.402215</td>\n      <td>...</td>\n      <td>0.248197</td>\n      <td>0.406337</td>\n      <td>-0.052727</td>\n      <td>0.256451</td>\n      <td>0.461449</td>\n      <td>-0.056080</td>\n      <td>0.261073</td>\n      <td>0.500557</td>\n      <td>-0.055821</td>\n      <td>0</td>\n    </tr>\n  </tbody>\n</table>\n<p>5 rows × 64 columns</p>\n</div>"
     },
     "execution_count": 26,
     "metadata": {},
     "output_type": "execute_result"
    }
   ],
   "source": [
    "# Load the data.\n",
    "# The data is stored in a bunch of csv files\n",
    "# for example data for the letter A is stored in the file \"training_data_0/A.csv\"\n",
    "# we will load all the data into a pandas dataframe\n",
    "df = pd.DataFrame()\n",
    "\n",
    "num_to_letter = dict()\n",
    "letter_to_num = dict()\n",
    "\n",
    "# index and loop through the letters\n",
    "for i, letter in enumerate(\"ABCDEFGHIKLMNOPQRSTUVWXY\"):\n",
    "    # read the csv file\n",
    "    df_letter = pd.read_csv(f\"training_data_0/{letter}.csv\")\n",
    "    # drop the \"'symbol'\" column\n",
    "    df_letter = df_letter.drop(columns=[\"'symbol'\"])\n",
    "    # add a column to the dataframe with the letter\n",
    "    df_letter[\"symbol\"] = i\n",
    "    # add the letter to the letter maps\n",
    "    num_to_letter[i] = letter\n",
    "    letter_to_num[letter] = i\n",
    "    # add the dataframe to the main dataframe\n",
    "    df = pd.concat([df, df_letter])\n",
    "\n",
    "# rename the \"'symbol'\" column to \"symbol\"\n",
    "df = df.rename(columns={\"'symbol'\": \"symbol\"})\n",
    "\n",
    "df.head()"
   ],
   "metadata": {
    "collapsed": false
   }
  },
  {
   "cell_type": "code",
   "execution_count": 27,
   "outputs": [
    {
     "data": {
      "text/plain": "4     375\n2     313\n17    298\n11    283\n14    260\n20    257\n12    256\n19    252\n15    248\n10    247\n22    246\n9     245\n21    244\n3     243\n7     241\n18    238\n6     237\n5     237\n1     234\n23    233\n16    233\n13    233\n8     233\n0     225\nName: symbol, dtype: int64"
     },
     "execution_count": 27,
     "metadata": {},
     "output_type": "execute_result"
    }
   ],
   "source": [
    "df[\"symbol\"].value_counts()"
   ],
   "metadata": {
    "collapsed": false
   }
  },
  {
   "cell_type": "code",
   "execution_count": 28,
   "outputs": [
    {
     "data": {
      "text/plain": "                x1           y1            z1           x2           y2  \\\ncount  6111.000000  6111.000000  6.111000e+03  6111.000000  6111.000000   \nmean      0.440433     0.622750  5.929709e-10     0.486052     0.603479   \nstd       0.191912     0.181983  5.487365e-09     0.196405     0.182482   \nmin       0.090501     0.141086 -1.969110e-08     0.109391     0.128427   \n25%       0.289168     0.476999 -2.008002e-09     0.327600     0.453367   \n50%       0.390545     0.595534  1.151827e-09     0.441132     0.579819   \n75%       0.626650     0.792995  3.734280e-09     0.678022     0.777037   \nmax       0.836572     1.025575  1.916064e-08     0.898871     0.997497   \n\n                z2           x3           y3           z3           x4  ...  \\\ncount  6111.000000  6111.000000  6111.000000  6111.000000  6111.000000  ...   \nmean     -0.018906     0.518731     0.554779    -0.037185     0.521704  ...   \nstd       0.022592     0.204327     0.187479     0.033304     0.217539  ...   \nmin      -0.107338     0.103584     0.105467    -0.156331     0.059861  ...   \n25%      -0.031281     0.355535     0.392496    -0.053778     0.344039  ...   \n50%      -0.019073     0.478165     0.540500    -0.036178     0.477882  ...   \n75%      -0.007548     0.720200     0.731449    -0.021938     0.738128  ...   \nmax       0.082677     0.945384     0.950460     0.117195     0.976453  ...   \n\n               x19          y19          z19          x20          y20  \\\ncount  6111.000000  6111.000000  6111.000000  6111.000000  6111.000000   \nmean      0.430614     0.464734    -0.072318     0.439989     0.486142   \nstd       0.220695     0.194340     0.026841     0.221597     0.198481   \nmin       0.023418     0.080981    -0.191882     0.025751     0.072168   \n25%       0.251514     0.305164    -0.088480     0.258871     0.333067   \n50%       0.379583     0.441283    -0.073844     0.391482     0.463063   \n75%       0.647629     0.627818    -0.056358     0.659670     0.630992   \nmax       0.916674     0.986162     0.053344     0.903740     1.020965   \n\n               z20          x21          y21          z21       symbol  \ncount  6111.000000  6111.000000  6111.000000  6111.000000  6111.000000  \nmean     -0.076378     0.445179     0.497874    -0.077505    11.356079  \nstd       0.026343     0.219653     0.201887     0.027505     6.902894  \nmin      -0.199254     0.031057     0.041557    -0.197314     0.000000  \n25%      -0.090959     0.265973     0.349207    -0.092341     5.000000  \n50%      -0.075681     0.394272     0.477647    -0.075551    11.000000  \n75%      -0.061090     0.659340     0.644602    -0.061332    17.000000  \nmax       0.040676     0.890713     1.031843     0.034286    23.000000  \n\n[8 rows x 64 columns]",
      "text/html": "<div>\n<style scoped>\n    .dataframe tbody tr th:only-of-type {\n        vertical-align: middle;\n    }\n\n    .dataframe tbody tr th {\n        vertical-align: top;\n    }\n\n    .dataframe thead th {\n        text-align: right;\n    }\n</style>\n<table border=\"1\" class=\"dataframe\">\n  <thead>\n    <tr style=\"text-align: right;\">\n      <th></th>\n      <th>x1</th>\n      <th>y1</th>\n      <th>z1</th>\n      <th>x2</th>\n      <th>y2</th>\n      <th>z2</th>\n      <th>x3</th>\n      <th>y3</th>\n      <th>z3</th>\n      <th>x4</th>\n      <th>...</th>\n      <th>x19</th>\n      <th>y19</th>\n      <th>z19</th>\n      <th>x20</th>\n      <th>y20</th>\n      <th>z20</th>\n      <th>x21</th>\n      <th>y21</th>\n      <th>z21</th>\n      <th>symbol</th>\n    </tr>\n  </thead>\n  <tbody>\n    <tr>\n      <th>count</th>\n      <td>6111.000000</td>\n      <td>6111.000000</td>\n      <td>6.111000e+03</td>\n      <td>6111.000000</td>\n      <td>6111.000000</td>\n      <td>6111.000000</td>\n      <td>6111.000000</td>\n      <td>6111.000000</td>\n      <td>6111.000000</td>\n      <td>6111.000000</td>\n      <td>...</td>\n      <td>6111.000000</td>\n      <td>6111.000000</td>\n      <td>6111.000000</td>\n      <td>6111.000000</td>\n      <td>6111.000000</td>\n      <td>6111.000000</td>\n      <td>6111.000000</td>\n      <td>6111.000000</td>\n      <td>6111.000000</td>\n      <td>6111.000000</td>\n    </tr>\n    <tr>\n      <th>mean</th>\n      <td>0.440433</td>\n      <td>0.622750</td>\n      <td>5.929709e-10</td>\n      <td>0.486052</td>\n      <td>0.603479</td>\n      <td>-0.018906</td>\n      <td>0.518731</td>\n      <td>0.554779</td>\n      <td>-0.037185</td>\n      <td>0.521704</td>\n      <td>...</td>\n      <td>0.430614</td>\n      <td>0.464734</td>\n      <td>-0.072318</td>\n      <td>0.439989</td>\n      <td>0.486142</td>\n      <td>-0.076378</td>\n      <td>0.445179</td>\n      <td>0.497874</td>\n      <td>-0.077505</td>\n      <td>11.356079</td>\n    </tr>\n    <tr>\n      <th>std</th>\n      <td>0.191912</td>\n      <td>0.181983</td>\n      <td>5.487365e-09</td>\n      <td>0.196405</td>\n      <td>0.182482</td>\n      <td>0.022592</td>\n      <td>0.204327</td>\n      <td>0.187479</td>\n      <td>0.033304</td>\n      <td>0.217539</td>\n      <td>...</td>\n      <td>0.220695</td>\n      <td>0.194340</td>\n      <td>0.026841</td>\n      <td>0.221597</td>\n      <td>0.198481</td>\n      <td>0.026343</td>\n      <td>0.219653</td>\n      <td>0.201887</td>\n      <td>0.027505</td>\n      <td>6.902894</td>\n    </tr>\n    <tr>\n      <th>min</th>\n      <td>0.090501</td>\n      <td>0.141086</td>\n      <td>-1.969110e-08</td>\n      <td>0.109391</td>\n      <td>0.128427</td>\n      <td>-0.107338</td>\n      <td>0.103584</td>\n      <td>0.105467</td>\n      <td>-0.156331</td>\n      <td>0.059861</td>\n      <td>...</td>\n      <td>0.023418</td>\n      <td>0.080981</td>\n      <td>-0.191882</td>\n      <td>0.025751</td>\n      <td>0.072168</td>\n      <td>-0.199254</td>\n      <td>0.031057</td>\n      <td>0.041557</td>\n      <td>-0.197314</td>\n      <td>0.000000</td>\n    </tr>\n    <tr>\n      <th>25%</th>\n      <td>0.289168</td>\n      <td>0.476999</td>\n      <td>-2.008002e-09</td>\n      <td>0.327600</td>\n      <td>0.453367</td>\n      <td>-0.031281</td>\n      <td>0.355535</td>\n      <td>0.392496</td>\n      <td>-0.053778</td>\n      <td>0.344039</td>\n      <td>...</td>\n      <td>0.251514</td>\n      <td>0.305164</td>\n      <td>-0.088480</td>\n      <td>0.258871</td>\n      <td>0.333067</td>\n      <td>-0.090959</td>\n      <td>0.265973</td>\n      <td>0.349207</td>\n      <td>-0.092341</td>\n      <td>5.000000</td>\n    </tr>\n    <tr>\n      <th>50%</th>\n      <td>0.390545</td>\n      <td>0.595534</td>\n      <td>1.151827e-09</td>\n      <td>0.441132</td>\n      <td>0.579819</td>\n      <td>-0.019073</td>\n      <td>0.478165</td>\n      <td>0.540500</td>\n      <td>-0.036178</td>\n      <td>0.477882</td>\n      <td>...</td>\n      <td>0.379583</td>\n      <td>0.441283</td>\n      <td>-0.073844</td>\n      <td>0.391482</td>\n      <td>0.463063</td>\n      <td>-0.075681</td>\n      <td>0.394272</td>\n      <td>0.477647</td>\n      <td>-0.075551</td>\n      <td>11.000000</td>\n    </tr>\n    <tr>\n      <th>75%</th>\n      <td>0.626650</td>\n      <td>0.792995</td>\n      <td>3.734280e-09</td>\n      <td>0.678022</td>\n      <td>0.777037</td>\n      <td>-0.007548</td>\n      <td>0.720200</td>\n      <td>0.731449</td>\n      <td>-0.021938</td>\n      <td>0.738128</td>\n      <td>...</td>\n      <td>0.647629</td>\n      <td>0.627818</td>\n      <td>-0.056358</td>\n      <td>0.659670</td>\n      <td>0.630992</td>\n      <td>-0.061090</td>\n      <td>0.659340</td>\n      <td>0.644602</td>\n      <td>-0.061332</td>\n      <td>17.000000</td>\n    </tr>\n    <tr>\n      <th>max</th>\n      <td>0.836572</td>\n      <td>1.025575</td>\n      <td>1.916064e-08</td>\n      <td>0.898871</td>\n      <td>0.997497</td>\n      <td>0.082677</td>\n      <td>0.945384</td>\n      <td>0.950460</td>\n      <td>0.117195</td>\n      <td>0.976453</td>\n      <td>...</td>\n      <td>0.916674</td>\n      <td>0.986162</td>\n      <td>0.053344</td>\n      <td>0.903740</td>\n      <td>1.020965</td>\n      <td>0.040676</td>\n      <td>0.890713</td>\n      <td>1.031843</td>\n      <td>0.034286</td>\n      <td>23.000000</td>\n    </tr>\n  </tbody>\n</table>\n<p>8 rows × 64 columns</p>\n</div>"
     },
     "execution_count": 28,
     "metadata": {},
     "output_type": "execute_result"
    }
   ],
   "source": [
    "df.describe()"
   ],
   "metadata": {
    "collapsed": false
   }
  },
  {
   "cell_type": "code",
   "execution_count": 29,
   "outputs": [
    {
     "data": {
      "text/plain": "x1        float64\ny1        float64\nz1        float64\nx2        float64\ny2        float64\n           ...   \nz20       float64\nx21       float64\ny21       float64\nz21       float64\nsymbol      int64\nLength: 64, dtype: object"
     },
     "execution_count": 29,
     "metadata": {},
     "output_type": "execute_result"
    }
   ],
   "source": [
    "df.dtypes"
   ],
   "metadata": {
    "collapsed": false
   }
  },
  {
   "cell_type": "code",
   "execution_count": 30,
   "outputs": [
    {
     "name": "stdout",
     "output_type": "stream",
     "text": [
      "[ 2.84234434e-01  5.99662066e-01  1.51039137e-09  3.52660865e-01\n",
      "  5.74240446e-01 -1.86437536e-02  4.01654959e-01  5.05305409e-01\n",
      " -3.12500969e-02  4.17681813e-01  4.36548412e-01 -4.56334427e-02\n",
      "  4.22503233e-01  3.77860457e-01 -5.84865883e-02  3.74746442e-01\n",
      "  4.36910540e-01 -8.12254008e-03  3.80444705e-01  3.89682174e-01\n",
      " -2.00392306e-02  3.67883712e-01  4.49001282e-01 -2.07441952e-02\n",
      "  3.63591522e-01  4.97271508e-01 -2.23034602e-02  3.35153967e-01\n",
      "  4.29939628e-01 -1.52731035e-02  3.40880424e-01  3.88413638e-01\n",
      " -4.07350659e-02  3.35393161e-01  4.62964505e-01 -5.23742251e-02\n",
      "  3.34779263e-01  5.15209615e-01 -5.54651171e-02  2.94720203e-01\n",
      "  4.33333546e-01 -2.50072163e-02  3.02414715e-01  3.95723999e-01\n",
      " -5.02379835e-02  3.02014083e-01  4.72031504e-01 -5.67812920e-02\n",
      "  3.04903924e-01  5.23163736e-01 -5.66067770e-02  2.54041135e-01\n",
      "  4.42956179e-01 -3.69402952e-02  2.64749527e-01  4.11588371e-01\n",
      " -5.11631295e-02  2.70927608e-01  4.66022164e-01 -5.28754666e-02\n",
      "  2.76105493e-01  5.05524457e-01 -5.20110615e-02  0.00000000e+00]\n",
      "[ 2.84234434e-01  5.99662066e-01  1.51039137e-09  3.52660865e-01\n",
      "  5.74240446e-01 -1.86437536e-02  4.01654959e-01  5.05305409e-01\n",
      " -3.12500969e-02  4.17681813e-01  4.36548412e-01 -4.56334427e-02\n",
      "  4.22503233e-01  3.77860457e-01 -5.84865883e-02  3.74746442e-01\n",
      "  4.36910540e-01 -8.12254008e-03  3.80444705e-01  3.89682174e-01\n",
      " -2.00392306e-02  3.67883712e-01  4.49001282e-01 -2.07441952e-02\n",
      "  3.63591522e-01  4.97271508e-01 -2.23034602e-02  3.35153967e-01\n",
      "  4.29939628e-01 -1.52731035e-02  3.40880424e-01  3.88413638e-01\n",
      " -4.07350659e-02  3.35393161e-01  4.62964505e-01 -5.23742251e-02\n",
      "  3.34779263e-01  5.15209615e-01 -5.54651171e-02  2.94720203e-01\n",
      "  4.33333546e-01 -2.50072163e-02  3.02414715e-01  3.95723999e-01\n",
      " -5.02379835e-02  3.02014083e-01  4.72031504e-01 -5.67812920e-02\n",
      "  3.04903924e-01  5.23163736e-01 -5.66067770e-02  2.54041135e-01\n",
      "  4.42956179e-01 -3.69402952e-02  2.64749527e-01  4.11588371e-01\n",
      " -5.11631295e-02  2.70927608e-01  4.66022164e-01 -5.28754666e-02\n",
      "  2.76105493e-01  5.05524457e-01 -5.20110615e-02]\n"
     ]
    }
   ],
   "source": [
    "# we need to modify the data. Each row represents the xyz coordinates of several points on a hand\n",
    "# we will convert this into a series of distances between the points and the center of the hand\n",
    "normalized_df = pd.DataFrame()\n",
    "# get the center of the hand\n",
    "first = True\n",
    "for row in df.iterrows():\n",
    "    # get the xyz coordinates of the points\n",
    "    if first:\n",
    "        print(row[1][:].values)\n",
    "        print(row[1][:-1].values)\n",
    "        first = False\n",
    "    points = row[1][:-1].values.reshape(-1, 3)\n",
    "    # get the center of the hand\n",
    "    center = np.mean(points, axis=0)\n",
    "    # get the distances between the points and the center\n",
    "    distances = np.linalg.norm(points - center, axis=1)\n",
    "    # add the distances to the normalized dataframe\n",
    "    normalized_df = pd.concat([normalized_df, pd.DataFrame(distances).T])"
   ],
   "metadata": {
    "collapsed": false
   }
  },
  {
   "cell_type": "code",
   "execution_count": 31,
   "outputs": [
    {
     "data": {
      "text/plain": "                0            1            2            3            4   \\\ncount  6111.000000  6111.000000  6111.000000  6111.000000  6111.000000   \nmean      0.168880     0.135518     0.092419     0.070245     0.078422   \nstd       0.039238     0.037373     0.034306     0.030727     0.031394   \nmin       0.038313     0.030872     0.022458     0.001777     0.007949   \n25%       0.140355     0.108687     0.065736     0.045820     0.056440   \n50%       0.163896     0.128998     0.084116     0.069041     0.074566   \n75%       0.194633     0.158656     0.115661     0.088772     0.096883   \nmax       0.271586     0.242121     0.192109     0.169416     0.160228   \n\n                5            6            7            8            9   ...  \\\ncount  6111.000000  6111.000000  6111.000000  6111.000000  6111.000000  ...   \nmean      0.062430     0.080998     0.092487     0.110193     0.049627  ...   \nstd       0.013824     0.021424     0.038436     0.054275     0.019953  ...   \nmin       0.002870     0.011499     0.007262     0.002656     0.009778  ...   \n25%       0.052694     0.067097     0.058526     0.059297     0.035693  ...   \n50%       0.060650     0.080629     0.088747     0.107295     0.043712  ...   \n75%       0.070891     0.092415     0.123537     0.156276     0.057363  ...   \nmax       0.114997     0.146094     0.210620     0.263544     0.119883  ...   \n\n                11           12           13           14           15  \\\ncount  6111.000000  6111.000000  6111.000000  6111.000000  6111.000000   \nmean      0.069930     0.089970     0.054527     0.052702     0.055431   \nstd       0.043893     0.063577     0.018517     0.020980     0.028128   \nmin       0.006704     0.004441     0.008384     0.005722     0.003783   \n25%       0.032528     0.034391     0.040797     0.037143     0.034840   \n50%       0.054058     0.068965     0.050821     0.046897     0.045515   \n75%       0.111149     0.157310     0.064120     0.067974     0.070391   \nmax       0.166165     0.220927     0.115243     0.118714     0.149044   \n\n                16           17           18           19           20  \ncount  6111.000000  6111.000000  6111.000000  6111.000000  6111.000000  \nmean      0.074259     0.076923     0.068345     0.074658     0.087115  \nstd       0.041497     0.015087     0.019747     0.027200     0.036576  \nmin       0.002551     0.007935     0.010838     0.014071     0.013151  \n25%       0.046042     0.066589     0.054724     0.057067     0.061895  \n50%       0.061525     0.078056     0.062134     0.069940     0.076313  \n75%       0.088147     0.088172     0.081652     0.083545     0.104001  \nmax       0.203736     0.121115     0.141722     0.183354     0.221810  \n\n[8 rows x 21 columns]",
      "text/html": "<div>\n<style scoped>\n    .dataframe tbody tr th:only-of-type {\n        vertical-align: middle;\n    }\n\n    .dataframe tbody tr th {\n        vertical-align: top;\n    }\n\n    .dataframe thead th {\n        text-align: right;\n    }\n</style>\n<table border=\"1\" class=\"dataframe\">\n  <thead>\n    <tr style=\"text-align: right;\">\n      <th></th>\n      <th>0</th>\n      <th>1</th>\n      <th>2</th>\n      <th>3</th>\n      <th>4</th>\n      <th>5</th>\n      <th>6</th>\n      <th>7</th>\n      <th>8</th>\n      <th>9</th>\n      <th>...</th>\n      <th>11</th>\n      <th>12</th>\n      <th>13</th>\n      <th>14</th>\n      <th>15</th>\n      <th>16</th>\n      <th>17</th>\n      <th>18</th>\n      <th>19</th>\n      <th>20</th>\n    </tr>\n  </thead>\n  <tbody>\n    <tr>\n      <th>count</th>\n      <td>6111.000000</td>\n      <td>6111.000000</td>\n      <td>6111.000000</td>\n      <td>6111.000000</td>\n      <td>6111.000000</td>\n      <td>6111.000000</td>\n      <td>6111.000000</td>\n      <td>6111.000000</td>\n      <td>6111.000000</td>\n      <td>6111.000000</td>\n      <td>...</td>\n      <td>6111.000000</td>\n      <td>6111.000000</td>\n      <td>6111.000000</td>\n      <td>6111.000000</td>\n      <td>6111.000000</td>\n      <td>6111.000000</td>\n      <td>6111.000000</td>\n      <td>6111.000000</td>\n      <td>6111.000000</td>\n      <td>6111.000000</td>\n    </tr>\n    <tr>\n      <th>mean</th>\n      <td>0.168880</td>\n      <td>0.135518</td>\n      <td>0.092419</td>\n      <td>0.070245</td>\n      <td>0.078422</td>\n      <td>0.062430</td>\n      <td>0.080998</td>\n      <td>0.092487</td>\n      <td>0.110193</td>\n      <td>0.049627</td>\n      <td>...</td>\n      <td>0.069930</td>\n      <td>0.089970</td>\n      <td>0.054527</td>\n      <td>0.052702</td>\n      <td>0.055431</td>\n      <td>0.074259</td>\n      <td>0.076923</td>\n      <td>0.068345</td>\n      <td>0.074658</td>\n      <td>0.087115</td>\n    </tr>\n    <tr>\n      <th>std</th>\n      <td>0.039238</td>\n      <td>0.037373</td>\n      <td>0.034306</td>\n      <td>0.030727</td>\n      <td>0.031394</td>\n      <td>0.013824</td>\n      <td>0.021424</td>\n      <td>0.038436</td>\n      <td>0.054275</td>\n      <td>0.019953</td>\n      <td>...</td>\n      <td>0.043893</td>\n      <td>0.063577</td>\n      <td>0.018517</td>\n      <td>0.020980</td>\n      <td>0.028128</td>\n      <td>0.041497</td>\n      <td>0.015087</td>\n      <td>0.019747</td>\n      <td>0.027200</td>\n      <td>0.036576</td>\n    </tr>\n    <tr>\n      <th>min</th>\n      <td>0.038313</td>\n      <td>0.030872</td>\n      <td>0.022458</td>\n      <td>0.001777</td>\n      <td>0.007949</td>\n      <td>0.002870</td>\n      <td>0.011499</td>\n      <td>0.007262</td>\n      <td>0.002656</td>\n      <td>0.009778</td>\n      <td>...</td>\n      <td>0.006704</td>\n      <td>0.004441</td>\n      <td>0.008384</td>\n      <td>0.005722</td>\n      <td>0.003783</td>\n      <td>0.002551</td>\n      <td>0.007935</td>\n      <td>0.010838</td>\n      <td>0.014071</td>\n      <td>0.013151</td>\n    </tr>\n    <tr>\n      <th>25%</th>\n      <td>0.140355</td>\n      <td>0.108687</td>\n      <td>0.065736</td>\n      <td>0.045820</td>\n      <td>0.056440</td>\n      <td>0.052694</td>\n      <td>0.067097</td>\n      <td>0.058526</td>\n      <td>0.059297</td>\n      <td>0.035693</td>\n      <td>...</td>\n      <td>0.032528</td>\n      <td>0.034391</td>\n      <td>0.040797</td>\n      <td>0.037143</td>\n      <td>0.034840</td>\n      <td>0.046042</td>\n      <td>0.066589</td>\n      <td>0.054724</td>\n      <td>0.057067</td>\n      <td>0.061895</td>\n    </tr>\n    <tr>\n      <th>50%</th>\n      <td>0.163896</td>\n      <td>0.128998</td>\n      <td>0.084116</td>\n      <td>0.069041</td>\n      <td>0.074566</td>\n      <td>0.060650</td>\n      <td>0.080629</td>\n      <td>0.088747</td>\n      <td>0.107295</td>\n      <td>0.043712</td>\n      <td>...</td>\n      <td>0.054058</td>\n      <td>0.068965</td>\n      <td>0.050821</td>\n      <td>0.046897</td>\n      <td>0.045515</td>\n      <td>0.061525</td>\n      <td>0.078056</td>\n      <td>0.062134</td>\n      <td>0.069940</td>\n      <td>0.076313</td>\n    </tr>\n    <tr>\n      <th>75%</th>\n      <td>0.194633</td>\n      <td>0.158656</td>\n      <td>0.115661</td>\n      <td>0.088772</td>\n      <td>0.096883</td>\n      <td>0.070891</td>\n      <td>0.092415</td>\n      <td>0.123537</td>\n      <td>0.156276</td>\n      <td>0.057363</td>\n      <td>...</td>\n      <td>0.111149</td>\n      <td>0.157310</td>\n      <td>0.064120</td>\n      <td>0.067974</td>\n      <td>0.070391</td>\n      <td>0.088147</td>\n      <td>0.088172</td>\n      <td>0.081652</td>\n      <td>0.083545</td>\n      <td>0.104001</td>\n    </tr>\n    <tr>\n      <th>max</th>\n      <td>0.271586</td>\n      <td>0.242121</td>\n      <td>0.192109</td>\n      <td>0.169416</td>\n      <td>0.160228</td>\n      <td>0.114997</td>\n      <td>0.146094</td>\n      <td>0.210620</td>\n      <td>0.263544</td>\n      <td>0.119883</td>\n      <td>...</td>\n      <td>0.166165</td>\n      <td>0.220927</td>\n      <td>0.115243</td>\n      <td>0.118714</td>\n      <td>0.149044</td>\n      <td>0.203736</td>\n      <td>0.121115</td>\n      <td>0.141722</td>\n      <td>0.183354</td>\n      <td>0.221810</td>\n    </tr>\n  </tbody>\n</table>\n<p>8 rows × 21 columns</p>\n</div>"
     },
     "execution_count": 31,
     "metadata": {},
     "output_type": "execute_result"
    }
   ],
   "source": [
    "normalized_df.describe()"
   ],
   "metadata": {
    "collapsed": false
   }
  },
  {
   "cell_type": "code",
   "execution_count": 32,
   "outputs": [],
   "source": [
    "# we will create a neural network with 2 hidden layers\n",
    "model = tf.keras.models.Sequential([\n",
    "    tf.keras.layers.InputLayer(input_shape=(21,)),\n",
    "    tf.keras.layers.Dense(64, activation=\"relu\"),\n",
    "    tf.keras.layers.Dense(48, activation=\"relu\"),\n",
    "    tf.keras.layers.Dense(24, activation=\"softmax\")\n",
    "])\n",
    "\n",
    "# use xgb regressor\n",
    "from xgboost import XGBRegressor\n",
    "\n",
    "model_2 = XGBRegressor(learning_rate=0.1, n_estimators=100, max_depth=3, min_child_weight=1, subsample=0.8, colsample_bytree=0.8, scale_pos_weight=1, seed=27)\n",
    "\n",
    "# use random forest regressor\n",
    "from sklearn.ensemble import RandomForestRegressor\n",
    "\n",
    "model_3 = RandomForestRegressor()\n",
    "\n",
    "# use linear regression\n",
    "from sklearn.linear_model import LinearRegression\n",
    "\n",
    "model_4 = LinearRegression()\n",
    "\n",
    "# use a decision tree\n",
    "from sklearn.tree import DecisionTreeRegressor\n",
    "\n",
    "model_5 = DecisionTreeRegressor()"
   ],
   "metadata": {
    "collapsed": false
   }
  },
  {
   "cell_type": "code",
   "execution_count": 33,
   "outputs": [],
   "source": [
    "# use test train split to split the data into training and validation data\n",
    "from sklearn.model_selection import train_test_split\n",
    "\n",
    "X = normalized_df\n",
    "y = df[\"symbol\"]\n",
    "\n",
    "X_train, X_test, y_train, y_test = train_test_split(X, y, test_size=0.1)"
   ],
   "metadata": {
    "collapsed": false
   }
  },
  {
   "cell_type": "code",
   "execution_count": 34,
   "outputs": [
    {
     "name": "stdout",
     "output_type": "stream",
     "text": [
      "Epoch 1/10\n",
      "172/172 [==============================] - 1s 3ms/step - loss: 11.2971 - mean_absolute_error: 11.2971 - mean_squared_error: 175.1948 - accuracy: 0.0393\n",
      "Epoch 2/10\n",
      "172/172 [==============================] - 0s 2ms/step - loss: 11.2971 - mean_absolute_error: 11.2971 - mean_squared_error: 175.1948 - accuracy: 0.0393\n",
      "Epoch 3/10\n",
      "172/172 [==============================] - 0s 2ms/step - loss: 11.2971 - mean_absolute_error: 11.2971 - mean_squared_error: 175.1949 - accuracy: 0.0393\n",
      "Epoch 4/10\n",
      "172/172 [==============================] - 0s 2ms/step - loss: 11.2971 - mean_absolute_error: 11.2971 - mean_squared_error: 175.1948 - accuracy: 0.0393\n",
      "Epoch 5/10\n",
      "172/172 [==============================] - 0s 2ms/step - loss: 11.2971 - mean_absolute_error: 11.2971 - mean_squared_error: 175.1949 - accuracy: 0.0393\n",
      "Epoch 6/10\n",
      "172/172 [==============================] - 0s 2ms/step - loss: 11.2971 - mean_absolute_error: 11.2971 - mean_squared_error: 175.1948 - accuracy: 0.0393\n",
      "Epoch 7/10\n",
      "172/172 [==============================] - 0s 2ms/step - loss: 11.2971 - mean_absolute_error: 11.2971 - mean_squared_error: 175.1949 - accuracy: 0.0393\n",
      "Epoch 8/10\n",
      "172/172 [==============================] - 0s 2ms/step - loss: 11.2971 - mean_absolute_error: 11.2971 - mean_squared_error: 175.1948 - accuracy: 0.0393\n",
      "Epoch 9/10\n",
      "172/172 [==============================] - 0s 2ms/step - loss: 11.2971 - mean_absolute_error: 11.2971 - mean_squared_error: 175.1948 - accuracy: 0.0393\n",
      "Epoch 10/10\n",
      "172/172 [==============================] - 0s 2ms/step - loss: 11.2971 - mean_absolute_error: 11.2971 - mean_squared_error: 175.1948 - accuracy: 0.0393\n"
     ]
    },
    {
     "data": {
      "text/plain": "DecisionTreeRegressor()",
      "text/html": "<style>#sk-container-id-2 {color: black;background-color: white;}#sk-container-id-2 pre{padding: 0;}#sk-container-id-2 div.sk-toggleable {background-color: white;}#sk-container-id-2 label.sk-toggleable__label {cursor: pointer;display: block;width: 100%;margin-bottom: 0;padding: 0.3em;box-sizing: border-box;text-align: center;}#sk-container-id-2 label.sk-toggleable__label-arrow:before {content: \"▸\";float: left;margin-right: 0.25em;color: #696969;}#sk-container-id-2 label.sk-toggleable__label-arrow:hover:before {color: black;}#sk-container-id-2 div.sk-estimator:hover label.sk-toggleable__label-arrow:before {color: black;}#sk-container-id-2 div.sk-toggleable__content {max-height: 0;max-width: 0;overflow: hidden;text-align: left;background-color: #f0f8ff;}#sk-container-id-2 div.sk-toggleable__content pre {margin: 0.2em;color: black;border-radius: 0.25em;background-color: #f0f8ff;}#sk-container-id-2 input.sk-toggleable__control:checked~div.sk-toggleable__content {max-height: 200px;max-width: 100%;overflow: auto;}#sk-container-id-2 input.sk-toggleable__control:checked~label.sk-toggleable__label-arrow:before {content: \"▾\";}#sk-container-id-2 div.sk-estimator input.sk-toggleable__control:checked~label.sk-toggleable__label {background-color: #d4ebff;}#sk-container-id-2 div.sk-label input.sk-toggleable__control:checked~label.sk-toggleable__label {background-color: #d4ebff;}#sk-container-id-2 input.sk-hidden--visually {border: 0;clip: rect(1px 1px 1px 1px);clip: rect(1px, 1px, 1px, 1px);height: 1px;margin: -1px;overflow: hidden;padding: 0;position: absolute;width: 1px;}#sk-container-id-2 div.sk-estimator {font-family: monospace;background-color: #f0f8ff;border: 1px dotted black;border-radius: 0.25em;box-sizing: border-box;margin-bottom: 0.5em;}#sk-container-id-2 div.sk-estimator:hover {background-color: #d4ebff;}#sk-container-id-2 div.sk-parallel-item::after {content: \"\";width: 100%;border-bottom: 1px solid gray;flex-grow: 1;}#sk-container-id-2 div.sk-label:hover label.sk-toggleable__label {background-color: #d4ebff;}#sk-container-id-2 div.sk-serial::before {content: \"\";position: absolute;border-left: 1px solid gray;box-sizing: border-box;top: 0;bottom: 0;left: 50%;z-index: 0;}#sk-container-id-2 div.sk-serial {display: flex;flex-direction: column;align-items: center;background-color: white;padding-right: 0.2em;padding-left: 0.2em;position: relative;}#sk-container-id-2 div.sk-item {position: relative;z-index: 1;}#sk-container-id-2 div.sk-parallel {display: flex;align-items: stretch;justify-content: center;background-color: white;position: relative;}#sk-container-id-2 div.sk-item::before, #sk-container-id-2 div.sk-parallel-item::before {content: \"\";position: absolute;border-left: 1px solid gray;box-sizing: border-box;top: 0;bottom: 0;left: 50%;z-index: -1;}#sk-container-id-2 div.sk-parallel-item {display: flex;flex-direction: column;z-index: 1;position: relative;background-color: white;}#sk-container-id-2 div.sk-parallel-item:first-child::after {align-self: flex-end;width: 50%;}#sk-container-id-2 div.sk-parallel-item:last-child::after {align-self: flex-start;width: 50%;}#sk-container-id-2 div.sk-parallel-item:only-child::after {width: 0;}#sk-container-id-2 div.sk-dashed-wrapped {border: 1px dashed gray;margin: 0 0.4em 0.5em 0.4em;box-sizing: border-box;padding-bottom: 0.4em;background-color: white;}#sk-container-id-2 div.sk-label label {font-family: monospace;font-weight: bold;display: inline-block;line-height: 1.2em;}#sk-container-id-2 div.sk-label-container {text-align: center;}#sk-container-id-2 div.sk-container {/* jupyter's `normalize.less` sets `[hidden] { display: none; }` but bootstrap.min.css set `[hidden] { display: none !important; }` so we also need the `!important` here to be able to override the default hidden behavior on the sphinx rendered scikit-learn.org. See: https://github.com/scikit-learn/scikit-learn/issues/21755 */display: inline-block !important;position: relative;}#sk-container-id-2 div.sk-text-repr-fallback {display: none;}</style><div id=\"sk-container-id-2\" class=\"sk-top-container\"><div class=\"sk-text-repr-fallback\"><pre>DecisionTreeRegressor()</pre><b>In a Jupyter environment, please rerun this cell to show the HTML representation or trust the notebook. <br />On GitHub, the HTML representation is unable to render, please try loading this page with nbviewer.org.</b></div><div class=\"sk-container\" hidden><div class=\"sk-item\"><div class=\"sk-estimator sk-toggleable\"><input class=\"sk-toggleable__control sk-hidden--visually\" id=\"sk-estimator-id-2\" type=\"checkbox\" checked><label for=\"sk-estimator-id-2\" class=\"sk-toggleable__label sk-toggleable__label-arrow\">DecisionTreeRegressor</label><div class=\"sk-toggleable__content\"><pre>DecisionTreeRegressor()</pre></div></div></div></div></div>"
     },
     "execution_count": 34,
     "metadata": {},
     "output_type": "execute_result"
    }
   ],
   "source": [
    "# compile the model\n",
    "model.compile(\n",
    "    loss='mean_absolute_error',\n",
    "    optimizer=\"adam\",\n",
    "    metrics=['mean_absolute_error', 'mean_squared_error', 'accuracy']\n",
    ")\n",
    "\n",
    "# train the model\n",
    "model.fit(\n",
    "    X_train, y_train,\n",
    "    epochs=10,\n",
    ")\n",
    "\n",
    "model_2.fit(\n",
    "    X_train, y_train\n",
    ")\n",
    "\n",
    "model_3.fit(\n",
    "    X_train, y_train\n",
    ")\n",
    "\n",
    "model_4.fit(\n",
    "    X_train, y_train\n",
    ")\n",
    "\n",
    "model_5.fit(\n",
    "    X_train, y_train\n",
    ")"
   ],
   "metadata": {
    "collapsed": false
   }
  },
  {
   "cell_type": "code",
   "execution_count": 35,
   "outputs": [
    {
     "name": "stdout",
     "output_type": "stream",
     "text": [
      "20/20 [==============================] - 0s 2ms/step - loss: 11.5010 - mean_absolute_error: 11.5010 - mean_squared_error: 179.8212 - accuracy: 0.0458\n"
     ]
    },
    {
     "data": {
      "text/plain": "[11.500953674316406,\n 11.500953674316406,\n 179.82119750976562,\n 0.04575163498520851]"
     },
     "execution_count": 35,
     "metadata": {},
     "output_type": "execute_result"
    }
   ],
   "source": [
    "# test the model\n",
    "model.evaluate(X_test, y_test)"
   ],
   "metadata": {
    "collapsed": false
   }
  },
  {
   "cell_type": "code",
   "execution_count": 36,
   "outputs": [
    {
     "data": {
      "text/plain": "0.955179910746305"
     },
     "execution_count": 36,
     "metadata": {},
     "output_type": "execute_result"
    }
   ],
   "source": [
    "model_2.score(X_test, y_test)"
   ],
   "metadata": {
    "collapsed": false
   }
  },
  {
   "cell_type": "code",
   "execution_count": 37,
   "outputs": [
    {
     "data": {
      "text/plain": "0.9907190423335627"
     },
     "execution_count": 37,
     "metadata": {},
     "output_type": "execute_result"
    }
   ],
   "source": [
    "model_3.score(X_test, y_test)"
   ],
   "metadata": {
    "collapsed": false
   }
  },
  {
   "cell_type": "code",
   "execution_count": 38,
   "outputs": [
    {
     "data": {
      "text/plain": "0.5024810582084747"
     },
     "execution_count": 38,
     "metadata": {},
     "output_type": "execute_result"
    }
   ],
   "source": [
    "model_4.score(X_test, y_test)"
   ],
   "metadata": {
    "collapsed": false
   }
  },
  {
   "cell_type": "code",
   "execution_count": 39,
   "outputs": [
    {
     "data": {
      "text/plain": "0.9593454916783885"
     },
     "execution_count": 39,
     "metadata": {},
     "output_type": "execute_result"
    }
   ],
   "source": [
    "model_5.score(X_test, y_test)"
   ],
   "metadata": {
    "collapsed": false
   }
  },
  {
   "cell_type": "code",
   "execution_count": 46,
   "outputs": [],
   "source": [
    "# save model 5\n",
    "\n",
    "# pickle.dump(model_5, open(\"model_5.sav\", \"wb\"))"
   ],
   "metadata": {
    "collapsed": false
   }
  },
  {
   "cell_type": "code",
   "execution_count": 47,
   "outputs": [],
   "source": [
    "# # load model\n",
    "# model = pickle.load(open(\"{{model_name}}.sav\", \"rb\"))"
   ],
   "metadata": {
    "collapsed": false
   }
  },
  {
   "cell_type": "code",
   "execution_count": 49,
   "outputs": [],
   "source": [
    "# we need to modify the data. Each row represents the xyz coordinates of several points on a hand\n",
    "# we will convert this into a series of distances between the points and the center of the hand\n",
    "test_data = pd.read_csv(\"testing_data_abcs.csv\")\n",
    "# test_data = pd.read_csv(\"training_data_0/C.csv\")\n",
    "test_data.drop(columns=[\"'symbol'\"], inplace=True)\n",
    "\n",
    "test_df = pd.DataFrame()\n",
    "# get the center of the hand\n",
    "for row in test_data.iterrows():\n",
    "    # get the xyz coordinates of the points\n",
    "    points = row[1][:].values.reshape(-1, 3)\n",
    "    # get the center of the hand\n",
    "    center = np.mean(points, axis=0)\n",
    "    # get the distances between the points and the center\n",
    "    distances = np.linalg.norm(points - center, axis=1)\n",
    "    # add the distances to the normalized dataframe\n",
    "    test_df = pd.concat([test_df, pd.DataFrame(distances).T])"
   ],
   "metadata": {
    "collapsed": false
   }
  },
  {
   "cell_type": "code",
   "execution_count": 50,
   "outputs": [
    {
     "data": {
      "text/plain": "array([ 0.,  0.,  0.,  0.,  0.,  0.,  0.,  0.,  0.,  0.,  0.,  0.,  0.,\n        0.,  0.,  0.,  0.,  0.,  0.,  0.,  0.,  0.,  0.,  0.,  0.,  0.,\n        0.,  0., 11., 11., 11.,  0.,  0.,  0.,  4.,  3.,  1.,  1.,  1.,\n        1.,  1.,  1.,  1.,  1.,  1.,  1.,  1.,  1.,  1.,  1.,  1.,  1.,\n        1.,  1.,  1.,  1.,  1.,  1.,  1.,  1.,  1.,  1.,  1.,  1.,  1.,\n        1.,  1.,  1.,  1.,  1.,  1.,  1.,  2.,  2.,  2.,  2.,  2.,  2.,\n        2.,  2.,  2.,  2.,  2.,  2.,  2.,  2.,  2.,  2.,  2.,  2.,  2.,\n        2.,  2.,  2.,  2., 12.,  3.,  3.,  3.,  3.,  3.,  3.,  3.,  3.,\n        3.,  3.,  3.,  3.,  3.,  3.,  3.,  3.,  3.,  3.,  3.,  3.,  3.,\n        3.,  3.,  3.,  3.,  3.,  3.,  3.,  3.,  3.,  3.,  3.,  3.,  3.,\n        3.,  3.,  3.,  3.,  3.,  3.,  3.,  3.,  3.,  3.,  3.,  3.,  3.,\n        3.,  3.,  3.,  3.,  3.,  3.,  3.,  3.,  3.,  3.,  3.,  3.,  3.,\n        3.,  3.,  3.,  3.,  3.,  3.,  3.,  3.,  3.,  3.,  2.,  2.,  2.,\n        2.,  2.,  2.,  2.,  2.,  2.,  2.,  4.,  4.,  4.,  4.,  4.,  4.,\n        4.,  4.,  4.,  4.,  4.,  4.,  4.,  4.,  4.,  4.,  4.,  4.,  4.,\n        4.,  4.,  4.,  4.,  4.,  2.,  4.,  4.,  4.,  4.,  4.,  2.,  2.,\n        2.,  2.,  2.,  4.,  4.,  4.,  4.,  4.,  4.,  4.,  4.,  4.,  4.,\n        4.,  4.,  4.,  4.,  4.,  4.,  4.,  4.,  4.,  4.,  4.,  4.,  4.,\n        4.,  4.,  4.,  4.,  4.,  4.,  4.,  4.,  4.,  4.,  4.,  4.,  4.,\n        5.,  5.,  5.,  5.,  5.,  5.,  5.,  5.,  5.,  5.,  5.,  5.,  5.,\n        5.,  5.,  5.,  5.,  5.,  5.,  5.,  5.,  5.,  5.,  5.,  5.,  5.,\n        5.,  5.,  5.,  5.,  5.,  5.,  5.,  5.,  5.,  5.,  5.,  5.,  5.,\n        5.,  5.,  5.,  5.,  5.,  5.,  5.,  5.,  5.,  5.,  5.,  5.,  5.,\n        5.,  5.,  5.,  6.,  6.,  6.,  6.,  6.,  6.,  3.,  3.,  3.,  3.,\n        3., 13.,  3., 13.])"
     },
     "execution_count": 50,
     "metadata": {},
     "output_type": "execute_result"
    }
   ],
   "source": [
    "predictions = model_5.predict(test_df)"
   ],
   "metadata": {
    "collapsed": false
   }
  },
  {
   "cell_type": "code",
   "execution_count": 51,
   "outputs": [],
   "source": [
    "# round the predictions\n",
    "predictions = np.round(predictions)"
   ],
   "metadata": {
    "collapsed": false
   }
  },
  {
   "cell_type": "code",
   "execution_count": 52,
   "outputs": [],
   "source": [
    "# get the letter for each prediction\n",
    "letters = [num_to_letter[int(prediction)] for prediction in predictions]"
   ],
   "metadata": {
    "collapsed": false
   }
  },
  {
   "cell_type": "code",
   "execution_count": 53,
   "outputs": [
    {
     "name": "stdout",
     "output_type": "stream",
     "text": [
      "A, M, A, E, D, B, C, N, D, C, E, C, E, C, E, F, G, D, O, D, O, "
     ]
    }
   ],
   "source": [
    "prev = None\n",
    "for letter in letters:\n",
    "    if prev is None:\n",
    "        print(letter, end=\", \")\n",
    "        prev = letter\n",
    "    else:\n",
    "        if prev != letter:\n",
    "            print(letter, end=\", \")\n",
    "            prev = letter"
   ],
   "metadata": {
    "collapsed": false
   }
  },
  {
   "cell_type": "code",
   "execution_count": 53,
   "outputs": [],
   "source": [],
   "metadata": {
    "collapsed": false
   }
  }
 ],
 "metadata": {
  "kernelspec": {
   "display_name": "Python 3",
   "language": "python",
   "name": "python3"
  },
  "language_info": {
   "codemirror_mode": {
    "name": "ipython",
    "version": 2
   },
   "file_extension": ".py",
   "mimetype": "text/x-python",
   "name": "python",
   "nbconvert_exporter": "python",
   "pygments_lexer": "ipython2",
   "version": "2.7.6"
  }
 },
 "nbformat": 4,
 "nbformat_minor": 0
}
